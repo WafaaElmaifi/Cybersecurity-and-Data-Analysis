{
  "nbformat": 4,
  "nbformat_minor": 0,
  "metadata": {
    "colab": {
      "provenance": []
    },
    "kernelspec": {
      "name": "python3",
      "display_name": "Python 3"
    },
    "language_info": {
      "name": "python"
    }
  },
  "cells": [
    {
      "cell_type": "code",
      "source": [],
      "metadata": {
        "id": "bNelaKmFrIoN"
      },
      "execution_count": null,
      "outputs": []
    },
    {
      "cell_type": "code",
      "execution_count": null,
      "metadata": {
        "colab": {
          "base_uri": "https://localhost:8080/"
        },
        "id": "mDWHca_eL5ND",
        "outputId": "6e81a97d-3062-433c-eec5-34a1bdb4108d"
      },
      "outputs": [
        {
          "output_type": "stream",
          "name": "stdout",
          "text": [
            "Premières lignes du dataset :\n",
            "                    Timestamp  User_ID       IP_Address      Activity_Type  \\\n",
            "0  2024-09-27 12:53:26.390859     9288     10.174.236.5  File_Modification   \n",
            "1  2024-10-02 15:13:49.741543     1605   172.19.128.216         USB_Insert   \n",
            "2  2024-09-13 14:31:39.163288     3056  192.168.201.132  File_Modification   \n",
            "3  2024-10-02 22:27:57.622008     1564   10.119.122.121    Network_Traffic   \n",
            "4  2024-10-01 08:00:55.017797     3660      172.23.2.38         USB_Insert   \n",
            "\n",
            "                Resource_Accessed         File_Name  Action  Login_Attempts  \\\n",
            "0  /network/logs/new_project.docx  new_project.docx  Delete             NaN   \n",
            "1             /server/secrets.txt               NaN    Read             NaN   \n",
            "2         /project/document2.docx    document2.docx     NaN             NaN   \n",
            "3          /backup/document2.docx               NaN  Delete             NaN   \n",
            "4       /confidential/report1.pdf               NaN   Write             NaN   \n",
            "\n",
            "   File_Size  Anomaly_Type       Label  \n",
            "0      30.66  DDoS_Attempt  Suspicious  \n",
            "1        NaN   Brute_Force  Suspicious  \n",
            "2      21.61  DDoS_Attempt  Suspicious  \n",
            "3        NaN           NaN      Normal  \n",
            "4        NaN           NaN      Normal  \n",
            "                       Timestamp  User_ID      IP_Address      Activity_Type  \\\n",
            "7395  2024-10-01 02:40:14.793058     4706   10.72.246.167      File_Deletion   \n",
            "7396  2024-10-07 03:16:43.631692     7023    10.28.92.175  File_Modification   \n",
            "7397  2024-09-22 09:01:47.958976     5809  192.168.75.107              Login   \n",
            "7398  2024-09-18 05:22:32.339117     9630  192.168.139.65    Network_Traffic   \n",
            "7399  2024-09-19 22:16:18.588603     1128     10.101.94.0         USB_Insert   \n",
            "\n",
            "                     Resource_Accessed    File_Name    Action  Login_Attempts  \\\n",
            "7395         /confidential/secrets.txt  secrets.txt       NaN             NaN   \n",
            "7396              /project/report1.pdf  report1.pdf  Inserted             NaN   \n",
            "7397  /shared/documents/document2.docx          NaN   Success             7.0   \n",
            "7398    /confidential/new_project.docx          NaN       NaN             NaN   \n",
            "7399          /server/new_project.docx          NaN   Success             NaN   \n",
            "\n",
            "      File_Size Anomaly_Type       Label  \n",
            "7395      36.38  Brute_Force  Suspicious  \n",
            "7396      49.04          NaN      Normal  \n",
            "7397        NaN          NaN      Normal  \n",
            "7398        NaN          NaN      Normal  \n",
            "7399        NaN          NaN      Normal  \n"
          ]
        }
      ],
      "source": [
        "import pandas as pd\n",
        "import numpy as np\n",
        "import matplotlib.pyplot as plt\n",
        "import seaborn as sns\n",
        "#1.a Chargez les logs de sécurité avec pandas.:\n",
        "df = pd.read_csv('/content/cybercrime_forensic_dataset.csv')\n",
        "\n",
        "#1.b Examinez les premières lignes et les types de données\n",
        "print(\"Premières lignes du dataset :\")\n",
        "print(df.head())\n",
        "#bonus:\n",
        "print(df.tail(5))"
      ]
    },
    {
      "cell_type": "code",
      "source": [
        "# + : Type de donnees\n",
        "print(\"\\nTypes de données :\")\n",
        "print(df.dtypes)\n",
        "\n",
        "# + : Resume des donnees\n",
        "print(\"\\nRésumé des données :\")\n",
        "print(df.info())"
      ],
      "metadata": {
        "colab": {
          "base_uri": "https://localhost:8080/"
        },
        "id": "m9dVOi_trn1y",
        "outputId": "4d6c8694-22f1-4b64-df55-fa375baf3e5c"
      },
      "execution_count": null,
      "outputs": [
        {
          "output_type": "stream",
          "name": "stdout",
          "text": [
            "\n",
            "Types de données :\n",
            "Timestamp             object\n",
            "User_ID                int64\n",
            "IP_Address            object\n",
            "Activity_Type         object\n",
            "Resource_Accessed     object\n",
            "File_Name             object\n",
            "Action                object\n",
            "Login_Attempts       float64\n",
            "File_Size            float64\n",
            "Anomaly_Type          object\n",
            "Label                 object\n",
            "dtype: object\n",
            "\n",
            "Résumé des données :\n",
            "<class 'pandas.core.frame.DataFrame'>\n",
            "RangeIndex: 7400 entries, 0 to 7399\n",
            "Data columns (total 11 columns):\n",
            " #   Column             Non-Null Count  Dtype  \n",
            "---  ------             --------------  -----  \n",
            " 0   Timestamp          7400 non-null   object \n",
            " 1   User_ID            7400 non-null   int64  \n",
            " 2   IP_Address         7400 non-null   object \n",
            " 3   Activity_Type      7400 non-null   object \n",
            " 4   Resource_Accessed  7400 non-null   object \n",
            " 5   File_Name          3196 non-null   object \n",
            " 6   Action             6348 non-null   object \n",
            " 7   Login_Attempts     2105 non-null   float64\n",
            " 8   File_Size          3196 non-null   float64\n",
            " 9   Anomaly_Type       1233 non-null   object \n",
            " 10  Label              7400 non-null   object \n",
            "dtypes: float64(2), int64(1), object(8)\n",
            "memory usage: 636.1+ KB\n",
            "None\n"
          ]
        }
      ]
    },
    {
      "cell_type": "code",
      "source": [],
      "metadata": {
        "id": "Y5vd4KDi_Wt_"
      },
      "execution_count": null,
      "outputs": []
    },
    {
      "cell_type": "code",
      "source": [
        "# 2.a statistiques descriptives :\n",
        "print(\"\\nStatistiques descriptives :\")\n",
        "print(df.describe())"
      ],
      "metadata": {
        "colab": {
          "base_uri": "https://localhost:8080/"
        },
        "id": "8ou68y7Cr5XJ",
        "outputId": "756ccd53-355f-420b-c495-5b625dd71924"
      },
      "execution_count": null,
      "outputs": [
        {
          "output_type": "stream",
          "name": "stdout",
          "text": [
            "\n",
            "Statistiques descriptives :\n",
            "           User_ID  Login_Attempts    File_Size\n",
            "count  7400.000000     2105.000000  3196.000000\n",
            "mean   5535.768378        5.428504    24.669703\n",
            "std    2575.574425        2.862625    14.133492\n",
            "min    1000.000000        1.000000     0.130000\n",
            "25%    3358.750000        3.000000    12.635000\n",
            "50%    5516.000000        5.000000    24.590000\n",
            "75%    7755.000000        8.000000    36.782500\n",
            "max    9997.000000       10.000000    49.980000\n"
          ]
        }
      ]
    },
    {
      "cell_type": "code",
      "source": [
        "# On utilise value_counts() pour compter le nombre d'événements par utilisateur (User_ID):\n",
        "user_activity = df['User_ID'].value_counts()\n",
        "print(\"\\nNombre d'événements par utilisateur :\")\n",
        "print(user_activity)"
      ],
      "metadata": {
        "colab": {
          "base_uri": "https://localhost:8080/"
        },
        "id": "nbS3oHTKsVnD",
        "outputId": "9cea555f-2212-4a50-ff5a-b66c7a2cb0fc"
      },
      "execution_count": null,
      "outputs": [
        {
          "output_type": "stream",
          "name": "stdout",
          "text": [
            "\n",
            "Nombre d'événements par utilisateur :\n",
            "User_ID\n",
            "1354    5\n",
            "5682    5\n",
            "1126    5\n",
            "8156    5\n",
            "7436    5\n",
            "       ..\n",
            "9754    1\n",
            "2261    1\n",
            "3800    1\n",
            "8747    1\n",
            "9630    1\n",
            "Name: count, Length: 5031, dtype: int64\n"
          ]
        }
      ]
    },
    {
      "cell_type": "code",
      "source": [
        "# On filtre les événements de type \"Login\" et on compte les tentatives de connexion (Login_Attempts).\n",
        "login_attempts = df[df['Activity_Type'] == 'Login']['Login_Attempts'].value_counts()\n",
        "print(\"\\nFréquence des tentatives de connexion :\")\n",
        "print(login_attempts)"
      ],
      "metadata": {
        "colab": {
          "base_uri": "https://localhost:8080/"
        },
        "id": "nYVsblP_swLe",
        "outputId": "da8c8384-888d-4a88-c0aa-34d0f2d87fd2"
      },
      "execution_count": null,
      "outputs": [
        {
          "output_type": "stream",
          "name": "stdout",
          "text": [
            "\n",
            "Fréquence des tentatives de connexion :\n",
            "Login_Attempts\n",
            "4.0     130\n",
            "10.0    111\n",
            "5.0     109\n",
            "1.0     103\n",
            "6.0     102\n",
            "3.0     101\n",
            "7.0     101\n",
            "8.0     100\n",
            "9.0      99\n",
            "2.0      97\n",
            "Name: count, dtype: int64\n"
          ]
        }
      ]
    },
    {
      "cell_type": "code",
      "source": [
        "# 2.b. Identifiez les événements les plus fréquents:\n",
        "most_frequent_events = df['Activity_Type'].value_counts()\n",
        "print(\"\\nÉvénements les plus fréquents :\")\n",
        "print(most_frequent_events)"
      ],
      "metadata": {
        "colab": {
          "base_uri": "https://localhost:8080/"
        },
        "id": "594WGpkDtoGN",
        "outputId": "009f1aea-10e2-4a16-bc0b-d2f29c62fd5a"
      },
      "execution_count": null,
      "outputs": [
        {
          "output_type": "stream",
          "name": "stdout",
          "text": [
            "\n",
            "Événements les plus fréquents :\n",
            "Activity_Type\n",
            "File_Access          1092\n",
            "Network_Traffic      1068\n",
            "File_Modification    1067\n",
            "Login                1053\n",
            "Remote_Login         1052\n",
            "File_Deletion        1037\n",
            "USB_Insert           1031\n",
            "Name: count, dtype: int64\n"
          ]
        }
      ]
    },
    {
      "cell_type": "code",
      "source": [
        "#3.a Appliquez un test statistique pour détecter des anomalies\n",
        "from scipy.stats import chi2_contingency\n",
        "\n",
        "# Création de la table de contingence\n",
        "contingency_table = pd.crosstab(df['Activity_Type'], df['Label'])\n",
        "\n",
        "# Application du test du chi-deux\n",
        "chi2, p, dof, expected = chi2_contingency(contingency_table)\n",
        "\n",
        "# Calcul des résidus standardisés (pour identifier les anomalies)\n",
        "residuals = (contingency_table - expected) / np.sqrt(expected)\n",
        "\n",
        "# Affichage des résultats\n",
        "print(f\"\\nTest de chi carré : Chi2 = {chi2}, p-value = {p}\")\n",
        "print(\"\\nTableau des résidus standardisés (anomalies potentielles) :\")\n",
        "print(residuals)\n",
        "\n",
        "# Mise en évidence des valeurs suspectes\n",
        "threshold = 2  # Seuil d'anomalie (supérieur à 2 ou inférieur à -2)\n",
        "anomalies = residuals[(residuals > threshold) | (residuals < -threshold)]\n",
        "print(\"\\nValeurs suspectes dépassant le seuil :\")\n",
        "print(anomalies.dropna(how=\"all\").dropna(axis=1, how=\"all\"))\n"
      ],
      "metadata": {
        "colab": {
          "base_uri": "https://localhost:8080/"
        },
        "id": "9DW1_Y-htwrb",
        "outputId": "e18a602c-99da-49ae-8011-4a0250ae9d5a"
      },
      "execution_count": null,
      "outputs": [
        {
          "output_type": "stream",
          "name": "stdout",
          "text": [
            "\n",
            "Test de chi carré : Chi2 = 9.287813588317704, p-value = 0.15802688645961668\n",
            "\n",
            "Tableau des résidus standardisés (anomalies potentielles) :\n",
            "Label                Normal  Suspicious\n",
            "Activity_Type                          \n",
            "File_Access        0.197262   -0.441163\n",
            "File_Deletion      0.571022   -1.277051\n",
            "File_Modification -0.409619    0.916085\n",
            "Login              0.015277   -0.034167\n",
            "Network_Traffic    0.233022   -0.521137\n",
            "Remote_Login       0.313615   -0.701379\n",
            "USB_Insert        -0.928384    2.076267\n",
            "\n",
            "Valeurs suspectes dépassant le seuil :\n",
            "Label          Suspicious\n",
            "Activity_Type            \n",
            "USB_Insert       2.076267\n"
          ]
        }
      ]
    },
    {
      "cell_type": "code",
      "source": [
        "#4.a Explorez les logs par période de temps.\n",
        "df['Timestamp'] = pd.to_datetime(df['Timestamp'])\n",
        "df['Hour'] = df['Timestamp'].dt.hour\n",
        "df['Day'] = df['Timestamp'].dt.day\n",
        "#On convertit la colonne Timestamp en format datetime, puis on extrait l'heure (Hour) et le jour (Day) pour analyser les événements par période.\n"
      ],
      "metadata": {
        "id": "-N4n7PHnz9ke"
      },
      "execution_count": null,
      "outputs": []
    },
    {
      "cell_type": "code",
      "source": [
        "events_per_hour = df['Hour'].value_counts().sort_index()\n",
        "print(\"\\nNombre d'événements par heure :\")\n",
        "print(events_per_hour)\n",
        "#On compte le nombre d'événements par heure et on les trie par ordre croissant."
      ],
      "metadata": {
        "colab": {
          "base_uri": "https://localhost:8080/"
        },
        "id": "zIMu2Blo1Qc3",
        "outputId": "340455ca-df55-45b7-82a3-e415466b2191"
      },
      "execution_count": null,
      "outputs": [
        {
          "output_type": "stream",
          "name": "stdout",
          "text": [
            "\n",
            "Nombre d'événements par heure :\n",
            "Hour\n",
            "0     312\n",
            "1     325\n",
            "2     329\n",
            "3     300\n",
            "4     282\n",
            "5     302\n",
            "6     304\n",
            "7     295\n",
            "8     297\n",
            "9     294\n",
            "10    307\n",
            "11    312\n",
            "12    306\n",
            "13    289\n",
            "14    300\n",
            "15    341\n",
            "16    295\n",
            "17    283\n",
            "18    331\n",
            "19    347\n",
            "20    281\n",
            "21    315\n",
            "22    332\n",
            "23    321\n",
            "Name: count, dtype: int64\n"
          ]
        }
      ]
    },
    {
      "cell_type": "code",
      "source": [
        "events_per_day = df['Day'].value_counts().sort_index()\n",
        "print(\"\\nNombre d'événements par jour :\")\n",
        "print(events_per_day)\n",
        "#On compte le nombre d'événements par jour et on les trie par ordre croissant."
      ],
      "metadata": {
        "colab": {
          "base_uri": "https://localhost:8080/"
        },
        "id": "eu2GHTCF1USN",
        "outputId": "928c6ac6-5006-444d-c8ef-092abccf3ab7"
      },
      "execution_count": null,
      "outputs": [
        {
          "output_type": "stream",
          "name": "stdout",
          "text": [
            "\n",
            "Nombre d'événements par jour :\n",
            "Day\n",
            "1     245\n",
            "2     275\n",
            "3     274\n",
            "4     245\n",
            "5     226\n",
            "6     241\n",
            "7     242\n",
            "8     253\n",
            "9     233\n",
            "10    243\n",
            "11    256\n",
            "12    235\n",
            "13    246\n",
            "14    259\n",
            "15    250\n",
            "16    235\n",
            "17    224\n",
            "18    242\n",
            "19    265\n",
            "20    253\n",
            "21    265\n",
            "22    246\n",
            "23    222\n",
            "24    243\n",
            "25    252\n",
            "26    242\n",
            "27    243\n",
            "28    238\n",
            "29    248\n",
            "30    259\n",
            "Name: count, dtype: int64\n"
          ]
        }
      ]
    },
    {
      "cell_type": "code",
      "source": [
        "import pandas as pd\n",
        "import matplotlib.pyplot as plt\n",
        "\n",
        "# Assurez-vous que la colonne 'Timestamp' est bien en format datetime\n",
        "df['Timestamp'] = pd.to_datetime(df['Timestamp'])\n",
        "\n",
        "# Extraire l'heure à partir de la colonne Timestamp\n",
        "df['Hour'] = df['Timestamp'].dt.hour\n",
        "\n",
        "# Vérification du nombre d'événements par heure\n",
        "events_per_hour = df['Hour'].value_counts().sort_index()\n",
        "\n",
        "# Afficher le nombre d'événements par heure\n",
        "print(\"\\nNombre d'événements par heure :\")\n",
        "print(events_per_hour)\n",
        "\n",
        "# Visualisation du nombre d'événements par heure\n",
        "plt.figure(figsize=(10, 6))\n",
        "events_per_hour.plot(kind='bar', color='skyblue')\n",
        "plt.title('Nombre d\\'événements par heure')\n",
        "plt.xlabel('Heure')\n",
        "plt.ylabel('Nombre d\\'événements')\n",
        "plt.xticks(rotation=0)\n",
        "plt.show()\n"
      ],
      "metadata": {
        "colab": {
          "base_uri": "https://localhost:8080/",
          "height": 949
        },
        "id": "oZCxhPCp_ZdO",
        "outputId": "a20a1b5c-afe8-4e46-d8f9-c7114de99e87"
      },
      "execution_count": null,
      "outputs": [
        {
          "output_type": "stream",
          "name": "stdout",
          "text": [
            "\n",
            "Nombre d'événements par heure :\n",
            "Hour\n",
            "0     312\n",
            "1     325\n",
            "2     329\n",
            "3     300\n",
            "4     282\n",
            "5     302\n",
            "6     304\n",
            "7     295\n",
            "8     297\n",
            "9     294\n",
            "10    307\n",
            "11    312\n",
            "12    306\n",
            "13    289\n",
            "14    300\n",
            "15    341\n",
            "16    295\n",
            "17    283\n",
            "18    331\n",
            "19    347\n",
            "20    281\n",
            "21    315\n",
            "22    332\n",
            "23    321\n",
            "Name: count, dtype: int64\n"
          ]
        },
        {
          "output_type": "display_data",
          "data": {
            "text/plain": [
              "<Figure size 1000x600 with 1 Axes>"
            ],
            "image/png": "[encoded data removed]"
          },
          "metadata": {}
        }
      ]
    },
    {
      "cell_type": "code",
      "source": [
        "#5. Visualisation des anomalies:\n",
        "plt.figure(figsize=(10, 6))\n",
        "sns.barplot(x=events_per_hour.index, y=events_per_hour.values)\n",
        "plt.title('Nombre d\\'événements par heure')\n",
        "plt.xlabel('Heure')\n",
        "plt.ylabel('Nombre d\\'événements')\n",
        "plt.show()"
      ],
      "metadata": {
        "colab": {
          "base_uri": "https://localhost:8080/",
          "height": 565
        },
        "id": "8ofamSBO2L48",
        "outputId": "a96c79ad-133d-4fcb-94bb-095d5a6096d1"
      },
      "execution_count": null,
      "outputs": [
        {
          "output_type": "display_data",
          "data": {
            "text/plain": [
              "<Figure size 1000x600 with 1 Axes>"
            ],
            "image/png": "[encoded data removed]"
          },
          "metadata": {}
        }
      ]
    },
    {
      "cell_type": "code",
      "source": [
        "plt.figure(figsize=(10, 6))\n",
        "sns.barplot(x=events_per_day.index, y=events_per_day.values)\n",
        "plt.title('Nombre d\\'événements par jour')\n",
        "plt.xlabel('Jour')\n",
        "plt.ylabel('Nombre d\\'événements')\n",
        "plt.show()"
      ],
      "metadata": {
        "colab": {
          "base_uri": "https://localhost:8080/",
          "height": 565
        },
        "id": "uXs1rK7Y208c",
        "outputId": "cfad5600-662e-4f04-a03a-8d8f2bedd115"
      },
      "execution_count": null,
      "outputs": [
        {
          "output_type": "display_data",
          "data": {
            "text/plain": [
              "<Figure size 1000x600 with 1 Axes>"
            ],
            "image/png": "[encoded data removed]"
          },
          "metadata": {}
        }
      ]
    },
    {
      "cell_type": "code",
      "source": [
        "!pip install scipy\n",
        "from scipy.spatial.distance import euclidean\n",
        "from scipy.spatial.distance import cityblock # Importing cityblock as well for consistency\n",
        "\n",
        "normal_behavior = df['Activity_Type'].value_counts(normalize=True)\n",
        "observed_behavior = df[df['Label'] == 'Suspicious']['Activity_Type'].value_counts(normalize=True)\n",
        "\n",
        "# Calculate Euclidean distance\n",
        "euclidean_distance = euclidean(normal_behavior, observed_behavior)\n",
        "print(f\"\\nDistance euclidienne entre comportements normaux et suspects : {euclidean_distance}\")\n",
        "\n",
        "# Calculate Manhattan distance\n",
        "manhattan_distance = cityblock(normal_behavior, observed_behavior)\n",
        "print(f\"Distance de Manhattan entre comportements normaux et suspects : {manhattan_distance}\")"
      ],
      "metadata": {
        "colab": {
          "base_uri": "https://localhost:8080/"
        },
        "id": "ZiwuP5HJ22o-",
        "outputId": "5afe9793-0860-4a3c-9f64-92ca3590d108"
      },
      "execution_count": null,
      "outputs": [
        {
          "output_type": "stream",
          "name": "stdout",
          "text": [
            "Requirement already satisfied: scipy in /usr/local/lib/python3.11/dist-packages (1.13.1)\n",
            "Requirement already satisfied: numpy<2.3,>=1.22.4 in /usr/local/lib/python3.11/dist-packages (from scipy) (1.26.4)\n",
            "\n",
            "Distance euclidienne entre comportements normaux et suspects : 0.022253535660698178\n",
            "Distance de Manhattan entre comportements normaux et suspects : 0.047197562526029635\n"
          ]
        }
      ]
    },
    {
      "cell_type": "code",
      "source": [
        "malicious_behavior = df[df['Label'] == 'Suspicious']\n",
        "print(\"\\nComportement malveillant :\")\n",
        "print(malicious_behavior['Activity_Type'].value_counts())"
      ],
      "metadata": {
        "colab": {
          "base_uri": "https://localhost:8080/"
        },
        "id": "7E4ZDLwu2540",
        "outputId": "a3ab85cc-4d48-4fa2-edf9-c38ce31f2656"
      },
      "execution_count": null,
      "outputs": [
        {
          "output_type": "stream",
          "name": "stdout",
          "text": [
            "\n",
            "Comportement malveillant :\n",
            "Activity_Type\n",
            "USB_Insert           199\n",
            "File_Modification    190\n",
            "File_Access          176\n",
            "Login                175\n",
            "Network_Traffic      171\n",
            "Remote_Login         166\n",
            "File_Deletion        156\n",
            "Name: count, dtype: int64\n"
          ]
        }
      ]
    },
    {
      "cell_type": "code",
      "source": [
        "system_errors = df[df['Action'] == 'Failed']\n",
        "print(\"\\nErreurs système :\")\n",
        "print(system_errors['Activity_Type'].value_counts())"
      ],
      "metadata": {
        "colab": {
          "base_uri": "https://localhost:8080/"
        },
        "id": "Q0Tx2KKe3Eip",
        "outputId": "ca305cb9-b2c8-4ed4-e20a-da2ac28d13d5"
      },
      "execution_count": null,
      "outputs": [
        {
          "output_type": "stream",
          "name": "stdout",
          "text": [
            "\n",
            "Erreurs système :\n",
            "Activity_Type\n",
            "Network_Traffic      177\n",
            "File_Access          176\n",
            "File_Modification    164\n",
            "Remote_Login         163\n",
            "Login                144\n",
            "File_Deletion        139\n",
            "USB_Insert           137\n",
            "Name: count, dtype: int64\n"
          ]
        }
      ]
    }
  ]
}